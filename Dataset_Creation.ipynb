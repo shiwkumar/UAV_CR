
import numpy as np
from scipy import signal
import h5py
import pandas as pd
import matplotlib.pyplot as plt
import seaborn as sns
from tqdm import tqdm

# Define parameters
signal_params = {
    'center_frequency': 2.4e9,  # Hz (2.4 GHz ISM band)
    'bandwidth': 20e6,         # Hz (20 MHz channels)
    'sampling_rate': 40e6,     # Hz (2x Nyquist rate)
    'duration': 1e-3,          # seconds per sample
    'snr_range': [-20, 5],     # dB
    'modulation_types': ['BPSK', 'QPSK', '16-QAM', '64-QAM']
}

uav_params = {
    'altitude_range': [50, 200],    # meters
    'velocity_range': [0, 15],      # m/s
    'number_of_uavs': [2, 4, 6, 8], # Different scenarios
}

channel_params = {
    'path_loss_exponent': 2.7,      # Urban environment
    'shadowing_std': 4.0,           # dB
    'fading_type': 'Rician',        # For LOS scenarios
    'K_factor': 10,                 # Rician K-factor
    'doppler_shift': True,          # Consider UAV mobility
}

training_data = {
    'size': 10000,            # Number of samples
    'distribution': {
        'training': 0.7,       # 70% for training
        'validation': 0.15,    # 15% for validation
        'testing': 0.15        # 15% for testing
    }
}

def generate_dataset():
    """Generate synthetic dataset for CR-UAV testing"""
    
    dataset = []
    
    for i in tqdm(range(training_data['size']), desc="Generating samples"):
        # Generate UAV position
        x = np.random.uniform(-100, 100)
        y = np.random.uniform(-100, 100)
        z = np.random.uniform(*uav_params['altitude_range'])
        position = (x, y, z)
        
        # Generate UAV velocity
        vx = np.random.uniform(-uav_params['velocity_range'][1], uav_params['velocity_range'][1])
        vy = np.random.uniform(-uav_params['velocity_range'][1], uav_params['velocity_range'][1])
        vz = np.random.uniform(-5, 5)  # Smaller vertical velocity range
        velocity = (vx, vy, vz)
        
        # Generate SNR
        snr = np.random.uniform(*signal_params['snr_range'])
        
        # Calculate signal power based on path loss and shadowing
        distance = np.sqrt(x**2 + y**2 + z**2)
        path_loss = 20 * np.log10(distance) + 20 * np.log10(signal_params['center_frequency']) - 147.55
        shadowing = np.random.normal(0, channel_params['shadowing_std'])
        
        # Calculate received power
        tx_power = 23  # dBm (typical WiFi transmit power)
        rx_power = tx_power - path_loss + shadowing
        
        # Generate channel conditions
        K = channel_params['K_factor']
        fading = np.sqrt(K/(K+1)) + np.sqrt(1/(K+1)) * (np.random.normal(0,1) + 1j*np.random.normal(0,1))
        fading_magnitude = np.abs(fading)
        
        # Generate spectrum occupancy (primary user presence)
        primary_user_present = 1 if np.random.random() > 0.5 else 0
        
        # Select modulation type
        modulation = np.random.choice(signal_params['modulation_types'])
        
        # Store sample
        sample = {
            'x': x,
            'y': y,
            'z': z,
            'vx': vx,
            'vy': vy,
            'vz': vz,
            'snr': snr,
            'path_loss': path_loss,
            'shadowing': shadowing,
            'rx_power': rx_power,
            'fading_magnitude': fading_magnitude,
            'primary_user_present': primary_user_present,
            'modulation': modulation
        }
        
        dataset.append(sample)
    
    return pd.DataFrame(dataset)

# Generate dataset
df = generate_dataset()

# Save to HDF5 file
df.to_hdf('cr_uav_dataset_10k.h5', key='data', mode='w')

# Print dataset statistics
print("\nDataset Statistics:")
print("-------------------")
print(f"Total samples: {len(df)}")
print(f"Primary user presence ratio: {df['primary_user_present'].mean():.2f}")
print("\nNumerical Features Statistics:")
print(df.describe())
print("\nModulation Distribution:")
print(df['modulation'].value_counts(normalize=True))

# Create visualization of key parameters
fig, axes = plt.subplots(2, 2, figsize=(15, 10))

# SNR Distribution
sns.histplot(data=df, x='snr', bins=30, ax=axes[0,0])
axes[0,0].set_title('SNR Distribution')

# Path Loss vs Distance
distance = np.sqrt(df['x']**2 + df['y']**2 + df['z']**2)
axes[0,1].scatter(distance, df['path_loss'], alpha=0.1)
axes[0,1].set_title('Path Loss vs Distance')
axes[0,1].set_xlabel('Distance (m)')
axes[0,1].set_ylabel('Path Loss (dB)')

# Received Power Distribution
sns.histplot(data=df, x='rx_power', bins=30, ax=axes[1,0])
axes[1,0].set_title('Received Power Distribution')

# UAV Altitude Distribution
sns.histplot(data=df, x='z', bins=30, ax=axes[1,1])
axes[1,1].set_title('UAV Altitude Distribution')

plt.tight_layout()
plt.savefig('dataset_visualization.png')
plt.close()

# Save dataset split indices
n_samples = len(df)
indices = np.random.permutation(n_samples)
train_size = int(n_samples * training_data['distribution']['training'])
val_size = int(n_samples * training_data['distribution']['validation'])

train_indices = indices[:train_size]
val_indices = indices[train_size:train_size+val_size]
test_indices = indices[train_size+val_size:]

np.savez('dataset_splits.npz', 
         train_indices=train_indices,
         val_indices=val_indices,
         test_indices=test_indices)

print("\nDataset Split Information:")
print(f"Training samples: {len(train_indices)}")
print(f"Validation samples: {len(val_indices)}")
print(f"Testing samples: {len(test_indices)}")
